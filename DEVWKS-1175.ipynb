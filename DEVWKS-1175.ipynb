{
 "cells": [
  {
   "cell_type": "markdown",
   "id": "54ee975e-481d-478a-8d45-c36aa79edda4",
   "metadata": {
    "tags": []
   },
   "source": [
    "# Introduction\n",
    "\n",
    "You've learned the basics of Python (imports! variables! functions! lists! dictionaries! oh my!) and now you're ready to move on to more advanced topics in Python. Python is one of those languages that easy to get started with but tough to master. In this hands on lab, you'll dive deeper into Python, object oriented progamming, and some cool tips on how to make your code readable and modularized.\n",
    "\n",
    "Let's make this a little fun though. Why don't we build a game while learning about these topics? Any one up for a game of chance? Let's play some BlackJack! For anyone not oriented, BlackJack is a casino game with one to eight players going up against a dealer. The goal of the game is to sum your combined dealt cards, get closest to 21 withouth going over, AND beat the dealer. All numbered cards hold their value, face cards (jack, queen, king) are worth 10, and aces can be 1 OR 11 depending on the scenario. For example, if you're dealt an ace and a four, you either have a five or a fifteen (not a great hand by the way). On your turn, you can be dealt another card and if it is a 5 then great! You can make a hand of 20 (11+4+5) and be in good shape to beat the dealer without taking another card. If you get face card, though, you now have 15 (1+4+10) because otherwise you'd BUST (go over 21). If the dealer BUSTS, any players who didn't BUST previously win! But if the dealer has a higher sum than you, you lose.\n",
    "\n",
    "With all of that out of the way, let's get started!\n",
    "\n",
    "# Prerequisites\n",
    "\n",
    "Python 3.x - Provided in this lab browser environment"
   ]
  },
  {
   "cell_type": "code",
   "execution_count": null,
   "id": "db870c01-eb7b-42cf-b103-acafed86298d",
   "metadata": {
    "tags": []
   },
   "outputs": [],
   "source": [
    "def scope_test():\n",
    "    def do_local():\n",
    "        spam = \"local spam\"\n",
    "\n",
    "    def do_nonlocal():\n",
    "        nonlocal spam\n",
    "        spam = \"nonlocal spam\"\n",
    "\n",
    "    def do_global():\n",
    "        global spam\n",
    "        spam = \"global spam\"\n",
    "\n",
    "    spam = \"test spam\"\n",
    "    do_local()\n",
    "    print(\"After local assignment:\", spam)\n",
    "    do_nonlocal()\n",
    "    print(\"After nonlocal assignment:\", spam)\n",
    "    do_global()\n",
    "    print(\"After global assignment:\", spam)\n",
    "\n",
    "scope_test()\n",
    "print(\"In global scope:\", spam)"
   ]
  },
  {
   "cell_type": "code",
   "execution_count": null,
   "id": "edd6bdd9-4a9c-4bd1-8c55-bc99984232c7",
   "metadata": {},
   "outputs": [],
   "source": [
    "class Card() :\n",
    "    def __init__(self, suit, number) :\n",
    "        self.suit = suit.capitalize()\n",
    "        self.number = number"
   ]
  },
  {
   "cell_type": "code",
   "execution_count": 3,
   "id": "0fb7e281-f84a-4d1f-8a2d-ccf4eca0ffe2",
   "metadata": {},
   "outputs": [],
   "source": [
    "class Card() :\n",
    "    def __init__(self, suit, number) :\n",
    "        self.suit = suit.capitalize()\n",
    "        self.number = number\n",
    "    def __str__(self) :\n",
    "        face = self.number\n",
    "        if self.number == 1 :\n",
    "            face = 'Ace'\n",
    "        elif self.number == 11 :\n",
    "            face = 'Jack'\n",
    "        elif self.number == 12 :\n",
    "            face = 'Queen'\n",
    "        elif self.number == 13 :\n",
    "            face = 'King'\n",
    "        return f'{face} of {self.suit}'\n",
    "\n",
    "    def __repr__(self) :\n",
    "        return Card.__str__(self)\n",
    "\n",
    "    def get_value(self) : \n",
    "        value = self.number\n",
    "        if self.number >= 11 and self.number <= 13 :\n",
    "            value = 10\n",
    "        return value\n",
    "\n",
    "    def __eq__(self, other) :\n",
    "        return self.number == other.number"
   ]
  },
  {
   "cell_type": "code",
   "execution_count": 4,
   "id": "1477f41a-3686-44bb-818d-c5ccd6b44e0b",
   "metadata": {},
   "outputs": [
    {
     "data": {
      "text/plain": [
       "'7 of Hearts'"
      ]
     },
     "execution_count": 4,
     "metadata": {},
     "output_type": "execute_result"
    }
   ],
   "source": [
    "new_card = Card(\"hearts\",7)\n",
    "new_card.__repr__()"
   ]
  },
  {
   "cell_type": "code",
   "execution_count": 5,
   "id": "1ea0ddc5-8633-436e-82f3-dfd1af67caaa",
   "metadata": {},
   "outputs": [
    {
     "data": {
      "text/plain": [
       "False"
      ]
     },
     "execution_count": 5,
     "metadata": {},
     "output_type": "execute_result"
    }
   ],
   "source": [
    "other_card = Card(\"Spades\", 9)\n",
    "new_card.__eq__(other_card)"
   ]
  }
 ],
 "metadata": {
  "kernelspec": {
   "display_name": "Python 3 (ipykernel)",
   "language": "python",
   "name": "python3"
  },
  "language_info": {
   "codemirror_mode": {
    "name": "ipython",
    "version": 3
   },
   "file_extension": ".py",
   "mimetype": "text/x-python",
   "name": "python",
   "nbconvert_exporter": "python",
   "pygments_lexer": "ipython3",
   "version": "3.10.4"
  }
 },
 "nbformat": 4,
 "nbformat_minor": 5
}
