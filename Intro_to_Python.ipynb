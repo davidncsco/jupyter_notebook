{
 "cells": [
  {
   "cell_type": "markdown",
   "id": "265ffd8a-9099-42df-b1a8-7bb6c2b7201e",
   "metadata": {
    "tags": []
   },
   "source": [
    "# Basic Python syntax\n",
    "\n",
    "Now that you know how to use your interpreter, let's dive-in and start learning Python.\n",
    "\n",
    "In all of the sections in this step, please take a minute to experiment with the Python syntax in your interactive shell.  You aren't going to break anything _(probably)_, and getting your hands on the syntax is the best way to learn it and get comfortable with it.  Don't feel like you have to type in any of our examples verbatim - try your own.  See what works and what doesn't - you'll learn from both.\n",
    "\n",
    "## Basic data types\n",
    "\n",
    "| Python </br> `type()` | Values                    |\n",
    "|:----------------------|:--------------------------|\n",
    "| `int`                 | -128, 0, 42               |\n",
    "| `float`               | -1.12, 0, 3.14159         |\n",
    "| `bool`                | True, False               |\n",
    "| `str`                 | \"Hello 😎\"                |\n",
    "| `bytes`               | b\"Hello \\xf0\\x9f\\x98\\x8e\" |\n",
    "\n",
    "As you would expect, Python has a basic data type to store any value you need. It also has a full set of operators to work with these numeric and string types.\n",
    "\n",
    "| Numeric Operators      | String Operators   |\n",
    "|:-----------------------|:-------------------|\n",
    "| `+` Addition           | `+` Concatenation  |\n",
    "| `-` Subtraction        | `*` Multiplication |\n",
    "| `*` Multiplication     |                    |\n",
    "| `/` Division           |                    |\n",
    "| `//` Floor Division    |                    |\n",
    "| `%` Modulo (remainder) |                    |\n",
    "| `**` Power             |                    |\n",
    "\n",
    "Python is introspective. You can see what type of data something is with the `type()` function. For example, enterimng `type(3)` returns `<class 'int'>`. Can't remember what Python's string data type is called? Just ask it, `type(\"What is this?\")` and it will tell you `<class 'str'>`.\n",
    "\n",
    "_**Try playing with some of these in your interactive interpreter.**_\n",
    "\n",
    "> **Note:** You could use the Python interactive shell as a powerful calculator. Python is used by mathematicians and scientists, and is capable of doing high-precision and complex mathematical operations (or you could use it to calculate the tip for your pizza order). Enter `2+2` and Python returns `4`.\n",
    "\n",
    "### Strings\n",
    "\n",
    "In Python v3 all strings (`str`) are Unicode strings and therefore can store and work with multi-byte Unicode characters.  Note that not all Terminals or platforms support these extended character sets, so use them at your own risk, but Python supports them - hopefully everything else will catch up.\n",
    "\n",
    "You can use any of the following to open and close a string:\n",
    "\n",
    "* Single Quotes `' '`\n",
    "* Double Quotes `\" \"`\n",
    "* Triple Single Quotes `''' '''`\n",
    "* Triple Double Quotes `\"\"\" \"\"\"`\n",
    "\n",
    "_Why all the options?_  The ability to use single or double quotes as string delineators makes it easier for you to create strings that may contain quotation marks.  For example, if you want to include double quotes inside your string, open and close the string with single quotes and vice versa."
   ]
  },
  {
   "cell_type": "code",
   "execution_count": 7,
   "id": "f77fc102-4aea-4a5a-a781-d77cdfec94b4",
   "metadata": {},
   "outputs": [
    {
     "data": {
      "text/plain": [
       "str"
      ]
     },
     "execution_count": 7,
     "metadata": {},
     "output_type": "execute_result"
    }
   ],
   "source": [
    "type(\"What is this\")"
   ]
  },
  {
   "cell_type": "markdown",
   "id": "ee693444-f9eb-42f1-9dac-03c29651c621",
   "metadata": {
    "tags": []
   },
   "source": [
    "Without the option to use the other quotation mark style to open and close the string, you would have to `\\` escape all the quotation marks inside the string.\n",
    "\n",
    "_What about the triple quotes?_  These let your string break across lines, and cause the string to include `\\n` newline characters everywhere where there are line breaks in the multiline string - essentially you can write multiline strings just by using the triple opening and closing quotes.\n",
    "\n",
    "> **Note:** A triple-quoted string (`\"\"\"`) at the beginning of a Python file, function, or class has special meaning. These are called docstrings, and they are a great way to document what the Python file, function, or class does and how it should be used.\n",
    "\n",
    "#### String operators"
   ]
  },
  {
   "cell_type": "code",
   "execution_count": 8,
   "id": "f84ea463-03cf-4871-84ec-4f7f5a5f7764",
   "metadata": {},
   "outputs": [
    {
     "data": {
      "text/plain": [
       "'OneTwo'"
      ]
     },
     "execution_count": 8,
     "metadata": {},
     "output_type": "execute_result"
    }
   ],
   "source": [
    "\"One\" + \"Two\""
   ]
  },
  {
   "cell_type": "markdown",
   "id": "1f32de36-d7e1-4847-86fc-ea5f25234c31",
   "metadata": {},
   "source": [
    "> **Note:** This doesn't insert any space between the strings. It simply joins the two strings together into a new string.\n",
    "\n",
    "Weird enough, you can multiply strings. This is actually useful when, for example, you want to repeat a character a certain number of times."
   ]
  },
  {
   "cell_type": "code",
   "execution_count": 9,
   "id": "a30560fe-f05f-4d60-b0b7-50722c21b244",
   "metadata": {},
   "outputs": [
    {
     "data": {
      "text/plain": [
       "'AbcAbcAbc'"
      ]
     },
     "execution_count": 9,
     "metadata": {},
     "output_type": "execute_result"
    }
   ],
   "source": [
    "\"Abc\" * 3"
   ]
  },
  {
   "cell_type": "markdown",
   "id": "5d2f39e5-468b-499a-967b-7fcab8ef30c0",
   "metadata": {},
   "source": [
    "There are also some powerful \"convenience\" methods available with string objects (more on objects later):\n",
    "\n",
    "* `\"{}\".format()`: The `.format()` method lets you insert named or unnamed placeholders `{}` in a string and then use the `.format()` method to insert values into those placeholders.\n",
    "* `\"\".split()`: The `.split()` method lets you split a string into multiple strings using a separator that you provide as the delimiter.\n",
    "* `\"\".join()`: The `.join()` method lets you put a sequence of strings together using, joining them with a separator that you provide.\n",
    "\n",
    "_Examples:_"
   ]
  },
  {
   "cell_type": "code",
   "execution_count": 10,
   "id": "6a73201a-55e6-4c2a-892e-0e1c4a625281",
   "metadata": {},
   "outputs": [
    {
     "data": {
      "text/plain": [
       "'Hi, my name is Chris!'"
      ]
     },
     "execution_count": 10,
     "metadata": {},
     "output_type": "execute_result"
    }
   ],
   "source": [
    "\"Hi, my name is {}!\".format(\"Chris\")"
   ]
  },
  {
   "cell_type": "code",
   "execution_count": 11,
   "id": "71d62d8a-0ddb-4e8a-908a-f99baa8287b0",
   "metadata": {},
   "outputs": [
    {
     "data": {
      "text/plain": [
       "'Hi, my name is Bob, and I am a coder!'"
      ]
     },
     "execution_count": 11,
     "metadata": {},
     "output_type": "execute_result"
    }
   ],
   "source": [
    "\"Hi, my name is {name}, and I am a {what}!\".format(name=\"Bob\", what=\"coder\")"
   ]
  },
  {
   "cell_type": "code",
   "execution_count": 12,
   "id": "25911da4-a755-4b6a-9ccc-329263e384b1",
   "metadata": {},
   "outputs": [
    {
     "data": {
      "text/plain": [
       "['a', 'b', 'c']"
      ]
     },
     "execution_count": 12,
     "metadata": {},
     "output_type": "execute_result"
    }
   ],
   "source": [
    "\"a b c\".split(\" \")"
   ]
  },
  {
   "cell_type": "code",
   "execution_count": 13,
   "id": "1ab83d8d-a51d-46e4-ba4c-d179851de7ea",
   "metadata": {},
   "outputs": [
    {
     "data": {
      "text/plain": [
       "'a,b,c'"
      ]
     },
     "execution_count": 13,
     "metadata": {},
     "output_type": "execute_result"
    }
   ],
   "source": [
    "\",\".join(['a', 'b', 'c'])"
   ]
  },
  {
   "cell_type": "markdown",
   "id": "0c574619-c001-4699-a143-eb38945f5362",
   "metadata": {},
   "source": [
    "## Defining variables\n",
    "\n",
    "Python is **not** a _strongly typed_ language. That means, unlike some other languages, you don't have to _declare_ a variable before using it. Also, a variable name could point to one type of data one minute and then point to a different type of data another.\n",
    "\n",
    "To define a variable in Python, simply use the assign `=` operator to assign a value to the variable name.\n"
   ]
  },
  {
   "cell_type": "code",
   "execution_count": 14,
   "id": "035192d2-6abe-41da-b6f5-5e4c32158c31",
   "metadata": {},
   "outputs": [
    {
     "data": {
      "text/plain": [
       "3"
      ]
     },
     "execution_count": 14,
     "metadata": {},
     "output_type": "execute_result"
    }
   ],
   "source": [
    "a = 3\n",
    "a"
   ]
  },
  {
   "cell_type": "markdown",
   "id": "31619bb0-6804-4529-8205-92cbacd11e35",
   "metadata": {},
   "source": [
    "> **Note:** In the interactive interpreter, typing a variable name at the prompt and pressing `Enter` displays the current value of the variable. Also note that while this is a valid Python statement, if you only put a variable name on a line in your script, it won't display the output to the user. You have to use the `print()` function in a script to display output to the user (you learn how to do this shortly).\n",
    "\n",
    "### Variable names\n",
    "\n",
    "* Cannot start with a number [0-9]\n",
    "* Cannot conflict with a language keyword\n",
    "* Can contain: [A-Za-z0-9_-]\n",
    "\n",
    "> Recommendations for naming (variables, classes, functions, etc.) can be found in [PEP8](https://www.python.org/dev/peps/pep-0008/).\n",
    "\n",
    "## Everything is an object!\n",
    "\n",
    "In Python everything is an object. What does this mean? Unlike some languages that have different types of data (value types, structures, classes and objects, etc.), in Python everything is an object.\n",
    "\n",
    "_What are objects, and what does this mean for me?_  I'm glad you asked.  Objects _(over simplified explanation)_ are purpose-built groupings of variables (called attributes) and functions (called methods) that work together to do something useful.\n",
    "\n",
    "Creating your own classes of objects in Python is easy, but due to time constraints and the fact that you won't need to create your own classes to complete the labs that depend on this _Python Fundamentals_ module, we aren't going to cover classes here. However, you do need to know how to work with objects - especially since _\"everything is an object\"_.  Fortunately doing so is also straightforward, and you have already seen this in action in the string examples above.\n",
    "\n",
    "**To access the attributes (variables) or methods (functions) contained within an object, all you need to remember is that you use \".\" _dot-syntax_ to do so.** Putting a period (dot) after any object lets you access the attributes and methods available within the object.\n",
    "\n",
    "_Examples:_"
   ]
  },
  {
   "cell_type": "code",
   "execution_count": 15,
   "id": "4baf30b3-5062-4e8e-a9b6-79a12ab9e504",
   "metadata": {},
   "outputs": [
    {
     "data": {
      "text/plain": [
       "6"
      ]
     },
     "execution_count": 15,
     "metadata": {},
     "output_type": "execute_result"
    }
   ],
   "source": [
    "a = 57\n",
    "a.bit_length()"
   ]
  },
  {
   "cell_type": "code",
   "execution_count": 16,
   "id": "a7206ffa-c677-4cb1-8b3f-610ec9f71c83",
   "metadata": {},
   "outputs": [
    {
     "data": {
      "text/plain": [
       "'who wrote this?'"
      ]
     },
     "execution_count": 16,
     "metadata": {},
     "output_type": "execute_result"
    }
   ],
   "source": [
    "\"WhO wRoTe THIs?\".lower()"
   ]
  },
  {
   "cell_type": "markdown",
   "id": "642df4d3-8170-46a1-a765-dfb6d31a7330",
   "metadata": {},
   "source": [
    "> **Note:** Python is introspective. To look inside an object and see what names (attributes and methods) are defined inside it, just pass the object to the `dir(<object>)` function.\n",
    "\n",
    "# Input, output, and conditionals\n",
    "\n",
    "In all the sections in this page, please take a minute to experiment with the Python syntax in your interactive interpreter.  Write your own input statements, create some if blocks, define some functions and explore. Your own creativity and getting your fingers on the keyboard is the best way to learn a language's basic syntax.\n",
    "\n",
    "## Getting input\n",
    "\n",
    "Need to prompt the user for some information? Use the `input()` function. It will display your prompt to the user and return their input, which you can assign to a variable."
   ]
  },
  {
   "cell_type": "code",
   "execution_count": 4,
   "id": "cf6f4fe1-8c8b-41d8-a8ba-2480bdf51329",
   "metadata": {},
   "outputs": [
    {
     "data": {
      "text/plain": [
       "'2.4'"
      ]
     },
     "execution_count": 4,
     "metadata": {},
     "output_type": "execute_result"
    }
   ],
   "source": [
    "answer = input(\"What is the air-speed velocity of an unladen swallow? \")\n",
    "answer"
   ]
  },
  {
   "cell_type": "markdown",
   "id": "3e6f5328-24bd-4bf6-b2aa-6c8e666e563b",
   "metadata": {},
   "source": [
    "> **Note:** The input function always returns a string (`str`) and it doesn't do any sort of validation - that is all up to you.\n",
    "\n",
    "## Displaying output\n",
    "\n",
    "Use the `print()` function to display output to the user. It accepts a variable number of parameters, converts them all to strings (`str`) and then joins them together with a space `\" \"` separator between each of the items.  This is a quick and easy way to combine several items and display the output to the user."
   ]
  },
  {
   "cell_type": "code",
   "execution_count": 1,
   "id": "b1fa436e-ce56-4fd1-a1bc-6ad7882f5871",
   "metadata": {},
   "outputs": [
    {
     "name": "stdout",
     "output_type": "stream",
     "text": [
      "I have 2 coconuts\n"
     ]
    }
   ],
   "source": [
    "coconuts = 2\n",
    "print(\"I have\", coconuts, \"coconuts\")"
   ]
  },
  {
   "cell_type": "markdown",
   "id": "b04c0cbf-f010-4088-aef2-5d452415a069",
   "metadata": {},
   "source": [
    "## Conditionals\n",
    "\n",
    "With variables comes the possibility (likelihood) that you may not know what they point to, or perhaps you want to branch your code and take different paths based on some condition. That's why we have `if` and `elif` (\"else if\") statements.\n",
    "\n",
    "_**Python `if` syntax:**_"
   ]
  },
  {
   "cell_type": "code",
   "execution_count": null,
   "id": "6c5c6efa-2285-43d7-ad13-885dc799731f",
   "metadata": {},
   "outputs": [],
   "source": [
    "if expression_1:\n",
    "    statements…\n",
    "elif expression_2:\n",
    "    statements…\n",
    "else:\n",
    "    statements…"
   ]
  },
  {
   "cell_type": "markdown",
   "id": "eaed05b7-c176-4899-bf3f-d6e6bad9cdda",
   "metadata": {},
   "source": [
    "> **Indentation is important!**  In Python, indentation is syntactically significant. Python uses indentation to identify the block of statements that are associated with a preceding statement. By [PEP8](https://www.python.org/dev/peps/pep-0008/) convention, indentation should be four (4) spaces. Most \"Python aware\" text editors and IDEs will automatically insert four spaces when you press the `Tab` key.\n",
    "\n",
    "The above `if` syntax reads:\n",
    "\n",
    "1. If `expression_1` is `True`, do the following block of indented statements\n",
    "2. Else if `expression_2` is `True`, do the following block of indented statements\n",
    "3. Else do the following block of indented statements\n",
    "\n",
    "> **Note:** In this syntax, the expressions can be any Python expression that evaluates to a `True` or `False` value (see [Python Truth Value Testing](https://docs.python.org/2/library/stdtypes.html#truth-value-testing) for more details).\n",
    "\n",
    "A conditional need not have all of these elements. You could have a single `if` statement, with some set of statements to run if it evaluates to `True`. You could have many else-if `elif` statements. You may only have one default or catch-all `else` statement.\n",
    "\n",
    "> **Note:** Python evaluates the `if` and `elif` statements starting with the first and proceeding to the last. If any of expressions evaluate to `True`, it runs the block of statements associated with that `if`/`elif` clause and then skips the rest of the clauses and continues with the next statement after the if-block.\n",
    "\n",
    "### Comparison operators and logical expressions\n",
    "\n",
    "| Comparison Operator | Meaning                  |\n",
    "|:--------------------|:-------------------------|\n",
    "| <                   | Less Than                |\n",
    "| >                   | Greater Than             |\n",
    "| <=                  | Less Than or Equal To    |\n",
    "| >=                  | Greater Than or Equal To |\n",
    "| ==                  | Equal To                 |\n",
    "| !=                  | Not Equal To             |\n",
    "| in                  | Contains Element         |\n",
    "\n",
    "You can combine expressions with `and` or `or`. Negate an expression with `not`.\n",
    "\n",
    "_Example:_"
   ]
  },
  {
   "cell_type": "code",
   "execution_count": null,
   "id": "b0e19eda-173a-49d4-8eb6-6381eb6ebea6",
   "metadata": {},
   "outputs": [],
   "source": [
    "n = 5\n",
    "if n < 5:\n",
    "    print(\"n is less than five\")\n",
    "elif n == 5:\n",
    "    print(\"n is equal to five\")\n",
    "else:\n",
    "    print(\"n is greater than five\")"
   ]
  },
  {
   "cell_type": "markdown",
   "id": "d2bab84a-d385-4ccb-9f4e-5417678ee3c5",
   "metadata": {},
   "source": [
    "# Functions\n",
    "\n",
    "_\"Don't Repeat Yourself (DRY)\"_\n",
    "\n",
    "Find yourself writing blocks of identical or nearly identical code in several places throughout your script (or in several of your scripts)? It's time to create a **function**. Functions let you write a piece of code once, give it a name, and then call that piece of code whenever you need it. They can (optionally) accept input arguments and return an output allowing you to create operations that take some input(s) and return some output according to your needs.\n",
    "\n",
    "_**Python function syntax:**_\n",
    "\n",
    "```python\n",
    "def function_name(arg_1, arg_2):\n",
    "    statements...\n",
    "    return value\n",
    "```\n",
    "\n",
    "> **Again indentation is important!**\n",
    "\n",
    "You use the `def` keyword to define a function, and you must follow the same rules when naming functions as you do when naming variables:\n",
    "\n",
    "* Cannot start with a number [0-9]\n",
    "* Cannot conflict with a language keyword\n",
    "* Can contain: [A-Za-z0-9_-]\n",
    "\n",
    "> Recommendations for naming (variables, classes, functions, etc.) can be found in [PEP8](https://www.python.org/dev/peps/pep-0008/).\n",
    "\n",
    "When defining a function, arguments are variable names that you create.  Later on when you call your function, you will pass in values for each of the arguments and these values will be assigned to the variable names you defined.  These variables can be used within the body of your function to do as you need to carry out the purpose of your function.\n",
    "\n",
    "Your function may optionally `return` some value.\n",
    "\n",
    "_Example:_"
   ]
  },
  {
   "cell_type": "code",
   "execution_count": null,
   "id": "11dfce24-152e-43f6-8b16-8dedd9532bbc",
   "metadata": {},
   "outputs": [],
   "source": [
    "def add(num1, num2):\n",
    "    result = num1 + num2\n",
    "    return result\n",
    "\n",
    "add(3, 5)"
   ]
  },
  {
   "cell_type": "markdown",
   "id": "b163a302-a375-4ca0-8c0e-3e68f12c80ad",
   "metadata": {},
   "source": [
    "> **Note:** _Defining_ a function (`def`) only \"creates\" it for later use. Your  function's code doesn't actually run until you call it (see the `add()` example above). No addition was performed until we called the add function and supplied values for its arguments with the `add(3, 5)` statement. You typically define a function once and then call it many times; passing in arguments and getting outputs each time.\n",
    "\n",
    "A function doesn't have to have any arguments or return any values. You could simply be calling a function to do some predefined set of actions."
   ]
  },
  {
   "cell_type": "code",
   "execution_count": null,
   "id": "9fd4c785-29c9-4401-b1fc-40ac49500f8d",
   "metadata": {},
   "outputs": [],
   "source": [
    "def say_hello():\n",
    "    print(\"Hello!\")\n",
    "say_hello()"
   ]
  },
  {
   "cell_type": "markdown",
   "id": "83cd27af-657b-4ad7-85c2-0a9e2cce1cd2",
   "metadata": {},
   "source": [
    "> **Note:** A function implicitly returns `None` if it reaches the end of the function's block of statements. `None` is a special Python _singleton_ value. It essentially means \"no value.\" `None` is the closest thing Python has to a `null` value that is present in some other languages. (changes)"
   ]
  }
 ],
 "metadata": {
  "kernelspec": {
   "display_name": "Python 3 (ipykernel)",
   "language": "python",
   "name": "python3"
  },
  "language_info": {
   "codemirror_mode": {
    "name": "ipython",
    "version": 3
   },
   "file_extension": ".py",
   "mimetype": "text/x-python",
   "name": "python",
   "nbconvert_exporter": "python",
   "pygments_lexer": "ipython3",
   "version": "3.10.4"
  },
  "vscode": {
   "interpreter": {
    "hash": "080386784e1df72565a2b2757f64da2d58c102a0c8fe3ad71c71c937bb653339"
   }
  }
 },
 "nbformat": 4,
 "nbformat_minor": 5
}
