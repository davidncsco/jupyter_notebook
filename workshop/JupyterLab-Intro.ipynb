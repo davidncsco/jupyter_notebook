{
 "cells": [
  {
   "cell_type": "markdown",
   "id": "b0cae17c-8bd0-4a45-861e-e8552e9f0993",
   "metadata": {},
   "source": [
    "## JupyterLab 🧪\n",
    "\n",
    "**JupyterLab** is a next-generation web-based user interface for Project Jupyter. It enables you to work with documents and activities such as Jupyter notebooks, text editors, terminals, and custom components in a flexible, integrated, and extensible manner. It is the interface that you're looking at right now.\n",
    "\n",
    "## An example: visualizing data in the notebook ✨\n",
    "\n",
    "Below is an example of a code cell. We'll visualize some simple data using two popular packages in Python. We'll use [NumPy](https://numpy.org/) to create some random data, and [Matplotlib](https://matplotlib.org) to visualize it.\n",
    "\n",
    "Note how the code and the results of running the code are bundled together."
   ]
  },
  {
   "cell_type": "code",
   "execution_count": null,
   "id": "c35509c2-7043-4015-ba10-b3571af7b86f",
   "metadata": {},
   "outputs": [],
   "source": [
    "from matplotlib import pyplot as plt\n",
    "import numpy as np\n",
    "\n",
    "# Generate 100 random data points along 3 dimensions\n",
    "x, y, scale = np.random.randn(3, 100)\n",
    "fig, ax = plt.subplots()\n",
    "\n",
    "# Map each onto a scatterplot we'll create with Matplotlib\n",
    "ax.scatter(x=x, y=y, c=scale, s=np.abs(scale)*500)\n",
    "ax.set(title=\"Some random data, created with JupyterLab!\")\n",
    "plt.show()"
   ]
  },
  {
   "cell_type": "markdown",
   "id": "e3dfc91a-c4ef-4605-8dd7-7b9d817f792c",
   "metadata": {},
   "source": [
    "# A Quick Introduction to Jupyter Lab\n",
    "\n",
    "1. Support common format: png, jpg, svg / pdf / csv ...\n",
    "\n",
    "## How to navigate using keyboard shortcut\n",
    "1. Image viewer: -/=/[,],0\n",
    "2. Command mode, Edit mode (ESC key to switch from Edit -> Command mode)\n",
    "2. Command mode: copy/add/delete cells: c/x/a/b/d d/z/^z\n",
    "4. Edit mode\n",
    "    Markdown: # heading, * italic, ** bold, - unordered list, 1. ordered list\n",
    "    Code: shift Enter, Cmd/Ctrl Enter\n",
    "    switch mode: y/m/r\n",
    "5. Restart kernel (from command mode): 0 0\n",
    "6. Move up/down: using arrow keys or j/k (like vi editor)"
   ]
  },
  {
   "cell_type": "markdown",
   "id": "b2e332d4-5663-4cfb-abd1-160e86ae5834",
   "metadata": {},
   "source": [
    "# Jupyter Lab in the cloud\n",
    "\n",
    "1. [Google Collaboration](https://colab.research.google.com)\n",
    "\n",
    "    Colab, or \"Colaboratory\", allows you to write and execute Python in your browser, with \n",
    "    - Zero configuration required\n",
    "    - Access to GPUs free of charge\n",
    "    - Easy sharing\n",
    "2. [Kaggle Notebooks](https://www.kaggle.com)\n",
    "\n",
    "    Similar functionalities of Google Colab and Jupyter notebook in the background. One of the really\n",
    "    nice feature about working in the Kaggle environment is you have access to all the public data set\n",
    "    they provide, which you can easily link to your notebook and load into to run data analysis.\n"
   ]
  },
  {
   "cell_type": "code",
   "execution_count": 5,
   "id": "a6368ad9-c39b-466b-9b04-f227aea2e0b9",
   "metadata": {},
   "outputs": [
    {
     "name": "stdout",
     "output_type": "stream",
     "text": [
      "defaultdict(<class 'int'>, {'red': 3, 'green': 2, 'blue': 1})\n"
     ]
    }
   ],
   "source": [
    "from collections import defaultdict\n",
    "colors = ['red','green','red','blue','green','red']\n",
    "\n",
    "d = defaultdict(int)\n",
    "for color in colors:\n",
    "    d[color] += 1\n",
    "print(d)"
   ]
  }
 ],
 "metadata": {
  "kernelspec": {
   "display_name": "Python 3 (ipykernel)",
   "language": "python",
   "name": "python3"
  },
  "language_info": {
   "codemirror_mode": {
    "name": "ipython",
    "version": 3
   },
   "file_extension": ".py",
   "mimetype": "text/x-python",
   "name": "python",
   "nbconvert_exporter": "python",
   "pygments_lexer": "ipython3",
   "version": "3.10.4"
  }
 },
 "nbformat": 4,
 "nbformat_minor": 5
}
